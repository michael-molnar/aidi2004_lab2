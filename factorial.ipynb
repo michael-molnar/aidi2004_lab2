{
 "cells": [
  {
   "cell_type": "code",
   "execution_count": 7,
   "id": "preceding-terminology",
   "metadata": {},
   "outputs": [
    {
     "name": "stdout",
     "output_type": "stream",
     "text": [
      "Enter a number: 4\n",
      "4 factorial is 24.\n"
     ]
    }
   ],
   "source": [
    "# Python program to find the factorial of user's number.\n",
    "\n",
    "num = int(input(\"Enter a number: \"))\n",
    "\n",
    "factorial = 1\n",
    "\n",
    "# if num is negative \n",
    "if num < 0:\n",
    "    print('Sorry. There is no factorial of negative numbers.')\n",
    "# if num is zero\n",
    "elif num == 0:\n",
    "    print('0 factorial is 1.')\n",
    "# if num is positive\n",
    "else:\n",
    "    for i in range(1, num + 1):\n",
    "        factorial = factorial*i\n",
    "    print('{} factorial is {}.'.format(num, factorial))"
   ]
  },
  {
   "cell_type": "code",
   "execution_count": null,
   "id": "abstract-might",
   "metadata": {},
   "outputs": [],
   "source": [
    "!git push origin master"
   ]
  }
 ],
 "metadata": {
  "kernelspec": {
   "display_name": "conda_python3",
   "language": "python",
   "name": "conda_python3"
  },
  "language_info": {
   "codemirror_mode": {
    "name": "ipython",
    "version": 3
   },
   "file_extension": ".py",
   "mimetype": "text/x-python",
   "name": "python",
   "nbconvert_exporter": "python",
   "pygments_lexer": "ipython3",
   "version": "3.6.10"
  }
 },
 "nbformat": 4,
 "nbformat_minor": 5
}
